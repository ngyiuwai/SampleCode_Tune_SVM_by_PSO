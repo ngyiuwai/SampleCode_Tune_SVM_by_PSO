{
 "cells": [
  {
   "cell_type": "code",
   "execution_count": 1,
   "metadata": {},
   "outputs": [],
   "source": [
    "from sklearn.datasets import load_digits\r\n",
    "from sklearn.preprocessing import StandardScaler\r\n",
    "from sklearn.svm import SVC\r\n",
    "from sklearn.metrics import confusion_matrix, roc_auc_score\r\n",
    "from sklearn.model_selection import train_test_split, cross_val_score\r\n",
    "from _modules.search import PSOSearchCV_SVM\r\n",
    "import numpy as np\r\n",
    "\r\n",
    "# Set format of numpy array#\r\n",
    "np.set_printoptions(precision=4, suppress=True)"
   ]
  },
  {
   "cell_type": "markdown",
   "metadata": {},
   "source": [
    "# Import data"
   ]
  },
  {
   "cell_type": "code",
   "execution_count": 2,
   "metadata": {},
   "outputs": [],
   "source": [
    "# Use UCI ML hand-written digits datasets, for digit = 2 or 3\r\n",
    "X, y = load_digits(return_X_y=True)\r\n",
    "X = X[(y == 2) | (y == 3)]\r\n",
    "y = y[(y == 2) | (y == 3)]\r\n",
    "\r\n",
    "# Add noise to X\r\n",
    "X = X + np.random.normal(loc=0,scale=12,size=X.shape)\r\n",
    "X[X < 0] = 0\r\n",
    "X[X > 16] = 16\r\n",
    "X = X.astype(int)\r\n",
    "\r\n",
    "# Train Test split\r\n",
    "X_train, X_test, y_train, y_test = train_test_split(X, y, stratify=y, test_size=0.3, random_state=2021)\r\n",
    "scaler = StandardScaler().fit(X_train)\r\n",
    "X_train, X_test = scaler.transform(X_train), scaler.transform(X_test)"
   ]
  },
  {
   "cell_type": "markdown",
   "metadata": {},
   "source": [
    "# Classification by default parameters"
   ]
  },
  {
   "cell_type": "code",
   "execution_count": 3,
   "metadata": {},
   "outputs": [
    {
     "name": "stdout",
     "output_type": "stream",
     "text": [
      "(Cross Validation) AUC Score: 0.8556810256410255\n",
      "(Test set) Confusion Matrix:\n",
      "[[36 17]\n",
      " [ 9 46]]\n",
      "(Test set) AUC Score: 0.7578044596912523\n"
     ]
    }
   ],
   "source": [
    "# Fit SVM classifier\r\n",
    "clf_default = SVC(kernel='rbf')\r\n",
    "clf_default.fit(X_train, y_train)\r\n",
    "print('(Cross Validation) AUC Score:', np.mean(cross_val_score(estimator=clf_default, X=X_train, y=y_train, cv=5, scoring='roc_auc')))\r\n",
    "\r\n",
    "# Show result\r\n",
    "print('(Test set) Confusion Matrix:')\r\n",
    "print(confusion_matrix(y_test, clf_default.predict(X_test)))\r\n",
    "print('(Test set) AUC Score:', roc_auc_score(y_test, clf_default.predict(X_test)))"
   ]
  },
  {
   "cell_type": "markdown",
   "metadata": {},
   "source": [
    "# Classification by parameters from PSO"
   ]
  },
  {
   "cell_type": "code",
   "execution_count": 4,
   "metadata": {},
   "outputs": [
    {
     "name": "stdout",
     "output_type": "stream",
     "text": [
      "Best parameters: {'C': 0.7726859318415608, 'gamma': 0.0012045606715699803, 'score': 0.8682743589743589}\n"
     ]
    }
   ],
   "source": [
    "# Set parameters\r\n",
    "C_range = [0.5, 2]\r\n",
    "gamma_range = [0.001, 10]\r\n",
    "para = {'C': C_range, 'gamma': gamma_range}\r\n",
    "\r\n",
    "# Get best parameters for PSO \r\n",
    "# Note that PSOSearchCV return to objects:\r\n",
    "#   clf.result:        Cross validation Score for different combination of C and gamma in every iteration\r\n",
    "#   clf.best_param:    Best parameters\r\n",
    "para_pso = PSOSearchCV_SVM(estimator=SVC(kernel='rbf'), param_grid=para, scoring='roc_auc',\r\n",
    "                           cv=5, n_jobs=3, verbose=False,       # n_job for cv-score computation. NOT for searching\r\n",
    "                           pso_size=200, pso_max_iter=8, velocity_scale=.5)\r\n",
    "para_pso.fit(X_train, y_train)\r\n",
    "print('Best parameters:', para_pso.best_param)"
   ]
  },
  {
   "cell_type": "code",
   "execution_count": 5,
   "metadata": {},
   "outputs": [
    {
     "name": "stdout",
     "output_type": "stream",
     "text": [
      "(Cross Validation) AUC Score: 0.8682743589743589\n",
      "(Test set) Confusion Matrix:\n",
      "[[39 14]\n",
      " [11 44]]\n",
      "(Test set) AUC Score: 0.7679245283018868\n"
     ]
    }
   ],
   "source": [
    "# Fit SVM classifier\r\n",
    "clf_pso = SVC(kernel='rbf', C=para_pso.best_param['C'], gamma=para_pso.best_param['gamma'])\r\n",
    "clf_pso.fit(X_train, y_train)\r\n",
    "print('(Cross Validation) AUC Score:', np.mean(cross_val_score(estimator=clf_pso, X=X_train, y=y_train, cv=5, scoring='roc_auc')))\r\n",
    "\r\n",
    "# Show result\r\n",
    "print('(Test set) Confusion Matrix:')\r\n",
    "print(confusion_matrix(y_test, clf_pso.predict(X_test)))\r\n",
    "print('(Test set) AUC Score:', roc_auc_score(y_test, clf_pso.predict(X_test)))"
   ]
  },
  {
   "cell_type": "markdown",
   "metadata": {},
   "source": [
    "# Visualize Cross validation Score for different combination of C and gamma"
   ]
  },
  {
   "cell_type": "code",
   "execution_count": 6,
   "metadata": {},
   "outputs": [],
   "source": [
    "import math\r\n",
    "import pandas as pd\r\n",
    "import seaborn as sns\r\n",
    "import matplotlib.pyplot as plt"
   ]
  },
  {
   "cell_type": "code",
   "execution_count": 7,
   "metadata": {},
   "outputs": [
    {
     "name": "stdout",
     "output_type": "stream",
     "text": [
      "Range of final iteration: \"C\" (0.6063723165309536, 1.4640286110617091)\n",
      "Range of final iteration: \"gamma\" (0.001, 6.006611497894516)\n"
     ]
    },
    {
     "data": {
      "text/html": "<div>\n<style scoped>\n    .dataframe tbody tr th:only-of-type {\n        vertical-align: middle;\n    }\n\n    .dataframe tbody tr th {\n        vertical-align: top;\n    }\n\n    .dataframe thead th {\n        text-align: right;\n    }\n</style>\n<table border=\"1\" class=\"dataframe\">\n  <thead>\n    <tr style=\"text-align: right;\">\n      <th></th>\n      <th>C</th>\n      <th>gamma</th>\n      <th>score</th>\n      <th>velocity</th>\n    </tr>\n  </thead>\n  <tbody>\n    <tr>\n      <th>0</th>\n      <td>0.811227</td>\n      <td>0.001763</td>\n      <td>0.864813</td>\n      <td>[-0.01029782122451442, -0.0001497370183579602]</td>\n    </tr>\n    <tr>\n      <th>1</th>\n      <td>0.773116</td>\n      <td>0.001496</td>\n      <td>0.866992</td>\n      <td>[-0.0003103736240272643, -0.00015128457325697592]</td>\n    </tr>\n    <tr>\n      <th>2</th>\n      <td>0.769915</td>\n      <td>0.001209</td>\n      <td>0.868274</td>\n      <td>[0.007778294284134262, -6.498181968468539e-06]</td>\n    </tr>\n    <tr>\n      <th>3</th>\n      <td>0.785220</td>\n      <td>2.273486</td>\n      <td>0.500000</td>\n      <td>[-0.006737218443892443, -1.1981408927278627]</td>\n    </tr>\n    <tr>\n      <th>4</th>\n      <td>0.811909</td>\n      <td>0.025948</td>\n      <td>0.851651</td>\n      <td>[-0.006789593167128305, -0.004242231813654905]</td>\n    </tr>\n    <tr>\n      <th>...</th>\n      <td>...</td>\n      <td>...</td>\n      <td>...</td>\n      <td>...</td>\n    </tr>\n    <tr>\n      <th>195</th>\n      <td>0.903814</td>\n      <td>0.001917</td>\n      <td>0.864493</td>\n      <td>[0.010837646313388412, 5.7635703987529566e-05]</td>\n    </tr>\n    <tr>\n      <th>196</th>\n      <td>0.755399</td>\n      <td>0.001359</td>\n      <td>0.867954</td>\n      <td>[0.004390441760215363, -3.8891557409443734e-05]</td>\n    </tr>\n    <tr>\n      <th>197</th>\n      <td>0.772935</td>\n      <td>0.001000</td>\n      <td>0.866674</td>\n      <td>[-0.0002241042497943776, -4.348935877399623e-05]</td>\n    </tr>\n    <tr>\n      <th>198</th>\n      <td>0.771728</td>\n      <td>0.001000</td>\n      <td>0.866674</td>\n      <td>[-0.0002370513158916811, -0.006740279106824262]</td>\n    </tr>\n    <tr>\n      <th>199</th>\n      <td>0.769257</td>\n      <td>0.008016</td>\n      <td>0.861308</td>\n      <td>[0.003759633905622289, -0.007000153945557806]</td>\n    </tr>\n  </tbody>\n</table>\n<p>200 rows × 4 columns</p>\n</div>",
      "text/plain": "            C     gamma     score  \\\n0    0.811227  0.001763  0.864813   \n1    0.773116  0.001496  0.866992   \n2    0.769915  0.001209  0.868274   \n3    0.785220  2.273486  0.500000   \n4    0.811909  0.025948  0.851651   \n..        ...       ...       ...   \n195  0.903814  0.001917  0.864493   \n196  0.755399  0.001359  0.867954   \n197  0.772935  0.001000  0.866674   \n198  0.771728  0.001000  0.866674   \n199  0.769257  0.008016  0.861308   \n\n                                              velocity  \n0       [-0.01029782122451442, -0.0001497370183579602]  \n1    [-0.0003103736240272643, -0.00015128457325697592]  \n2       [0.007778294284134262, -6.498181968468539e-06]  \n3         [-0.006737218443892443, -1.1981408927278627]  \n4       [-0.006789593167128305, -0.004242231813654905]  \n..                                                 ...  \n195     [0.010837646313388412, 5.7635703987529566e-05]  \n196    [0.004390441760215363, -3.8891557409443734e-05]  \n197   [-0.0002241042497943776, -4.348935877399623e-05]  \n198    [-0.0002370513158916811, -0.006740279106824262]  \n199      [0.003759633905622289, -0.007000153945557806]  \n\n[200 rows x 4 columns]"
     },
     "execution_count": 7,
     "metadata": {},
     "output_type": "execute_result"
    }
   ],
   "source": [
    "# Show result of last iteration\r\n",
    "result_pd_final = pd.DataFrame.from_dict(para_pso.result[-1])\r\n",
    "print(f'Range of final iteration: \"C\" ({np.min(result_pd_final[\"C\"])}, {np.max(result_pd_final[\"C\"])})')\r\n",
    "print(f'Range of final iteration: \"gamma\" ({np.min(result_pd_final[\"gamma\"])}, {np.max(result_pd_final[\"gamma\"])})')\r\n",
    "result_pd_final"
   ]
  },
  {
   "cell_type": "code",
   "execution_count": 8,
   "metadata": {},
   "outputs": [
    {
     "data": {
      "text/plain": "0.6063723165309536"
     },
     "execution_count": 8,
     "metadata": {},
     "output_type": "execute_result"
    }
   ],
   "source": [
    "np.min(result_pd_final['C'])"
   ]
  },
  {
   "cell_type": "code",
   "execution_count": 9,
   "metadata": {},
   "outputs": [],
   "source": [
    "# Flatten result from all iteration\r\n",
    "result_pso = {'C': [], 'gamma': [], 'score': []}\r\n",
    "\r\n",
    "for i in range(0, len(para_pso.result)):\r\n",
    "    for j in range(0, len(para_pso.result[0]['C'])):\r\n",
    "        result_pso['C'].append(para_pso.result[i]['C'][j])\r\n",
    "        result_pso['gamma'].append(para_pso.result[i]['gamma'][j])\r\n",
    "        result_pso['score'].append(para_pso.result[i]['score'][j])\r\n",
    "\r\n",
    "result_pso['C'] = np.round(result_pso['C'], 6)\r\n",
    "result_pso['gamma'] = np.round(result_pso['gamma'], 6)\r\n",
    "result_pso['score'] = np.round(result_pso['score'], 6)"
   ]
  },
  {
   "cell_type": "code",
   "execution_count": 10,
   "metadata": {},
   "outputs": [],
   "source": [
    "# Create data matrix for N*N heatmap:   Set size\r\n",
    "heatmap_size = 80\r\n",
    "\r\n",
    "# Create data matrix for N*N heatmap:   Set axis\r\n",
    "x_pos = np.logspace(start=np.log10(C_range[0]), stop=np.log10(C_range[1]), num=heatmap_size)\r\n",
    "y_pos = np.logspace(start=np.log10(gamma_range[0]), stop=np.log10(gamma_range[1]), num=heatmap_size)\r\n",
    "matrix_pso = np.zeros(shape=(y_pos.shape[0], x_pos.shape[0]))\r\n",
    "\r\n",
    "# Create data matrix for N*N heatmap:   Set values\r\n",
    "for c in range(0, len(result_pso['score'])):\r\n",
    "    i = np.where(x_pos >= result_pso['C'][c])[0]\r\n",
    "    if (len(i) > 1):\r\n",
    "        i = i[0]\r\n",
    "    j = np.where(y_pos >= result_pso['gamma'][c])[0]\r\n",
    "    if (len(j) > 1):\r\n",
    "        j = j[0]\r\n",
    "    matrix_pso[i, j] = np.maximum(matrix_pso[i, j], result_pso['score'][c])"
   ]
  },
  {
   "cell_type": "code",
   "execution_count": 13,
   "metadata": {},
   "outputs": [
    {
     "data": {
      "image/png": "[encoded data removed]",
      "text/plain": "<Figure size 864x576 with 2 Axes>"
     },
     "metadata": {},
     "output_type": "display_data"
    }
   ],
   "source": [
    "# Plot heatmap\r\n",
    "x_pos = np.round(x_pos, 2)\r\n",
    "y_pos = np.round(y_pos, 2)\r\n",
    "df_pso = pd.DataFrame(matrix_pso, columns=x_pos, index=y_pos)\r\n",
    "sns.set_theme()\r\n",
    "plt.figure(figsize=(12,8))\r\n",
    "ax = sns.heatmap(df_pso, cmap='magma', vmax=np.max(result_pso['score']))\r\n",
    "plt.xlabel('C')\r\n",
    "plt.ylabel('gamma')\r\n",
    "plt.show()"
   ]
  }
 ],
 "metadata": {
  "kernelspec": {
   "display_name": "Python 3.8.6 64-bit",
   "name": "python386jvsc74a57bd0141fafe83fea5ee91b9b72fd6ee2a28c120e191cbad21b862fde45f830b31655"
  },
  "language_info": {
   "codemirror_mode": {
    "name": "ipython",
    "version": 3
   },
   "file_extension": ".py",
   "mimetype": "text/x-python",
   "name": "python",
   "nbconvert_exporter": "python",
   "pygments_lexer": "ipython3",
   "version": "3.8.6"
  },
  "metadata": {
   "interpreter": {
    "hash": "141fafe83fea5ee91b9b72fd6ee2a28c120e191cbad21b862fde45f830b31655"
   }
  },
  "orig_nbformat": 2
 },
 "nbformat": 4,
 "nbformat_minor": 2
}
